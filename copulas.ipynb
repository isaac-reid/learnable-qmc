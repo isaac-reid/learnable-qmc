{
 "cells": [
  {
   "cell_type": "markdown",
   "metadata": {},
   "source": [
    "Learnable QMC with copulas notebook. RFFs and PRFs implemented but need to make more efficient."
   ]
  },
  {
   "cell_type": "code",
   "execution_count": 258,
   "metadata": {},
   "outputs": [],
   "source": [
    "import numpy as np\n",
    "from scipy.stats.distributions import chi2\n",
    "from tqdm import tqdm\n",
    "from scipy.stats import ortho_group\n",
    "import random\n",
    "import scipy\n",
    "import matplotlib.pyplot as plt\n",
    "import tensorflow as tf\n",
    "import tensorflow_probability as tfp"
   ]
  },
  {
   "cell_type": "code",
   "execution_count": 259,
   "metadata": {},
   "outputs": [],
   "source": [
    "def generate_K(x):\n",
    "    \"function to get groundtruth kernel matrix\"\n",
    "    nb_datapoints = np.shape(x)[0]\n",
    "    K = np.zeros((nb_datapoints,nb_datapoints))\n",
    "    for i in range(nb_datapoints):\n",
    "        for j in range(nb_datapoints):\n",
    "            K[i,j] = np.exp( - sum((x[i] - x[j])**2) / 2)\n",
    "    return K"
   ]
  },
  {
   "cell_type": "code",
   "execution_count": 260,
   "metadata": {},
   "outputs": [],
   "source": [
    "#hyperparameters\n",
    "d= 2     #number of dimensions\n",
    "nb_datapoints = 2       #number of datapoints (= dimensionality of Gram matrix)\n",
    "sigma = 0.3     #regulariser in kernel"
   ]
  },
  {
   "cell_type": "code",
   "execution_count": 261,
   "metadata": {},
   "outputs": [],
   "source": [
    "tfd = tfp.distributions\n",
    "chi2_dist = tfd.Chi2(d)\n",
    "norm_dist = tfd.Normal(loc=0.,scale=1.)"
   ]
  },
  {
   "cell_type": "code",
   "execution_count": 262,
   "metadata": {},
   "outputs": [],
   "source": [
    "# choose the respective directions of weight vectors ($\\hat{\\omega}$). Below is orthogonal directions and their antithetic counterparts (=2d vectors in total)\n",
    "basis = np.eye(d)\n",
    "basis = tf.convert_to_tensor(np.vstack((basis,-basis)), dtype=float)\n",
    "\n",
    "nb_vecs = len(basis)"
   ]
  },
  {
   "cell_type": "code",
   "execution_count": 263,
   "metadata": {},
   "outputs": [],
   "source": [
    "class Model(tf.keras.Model):\n",
    "    \"function that returns correlated ws. 'thetas' parameterise correlations between lengths. Note need random rotation also that is not included in here\"\n",
    "    def __init__(self, initial_thetas):\n",
    "        #length of initial thetas should be 1/2 * nb_vecs * (nb_vecs - 1)\n",
    "        super(Model, self).__init__()\n",
    "        self.thetas =tf.Variable(np.asarray(initial_thetas),dtype=float)\n",
    "\n",
    "    def call(self,input):  #currently has a dummy input\n",
    "        thetas = self.thetas\n",
    "\n",
    "        #make Cholesky decomposition of cov matrix with 1 on diagonals using the thetas\n",
    "        L = np.ndarray.tolist(np.tril(np.ones((nb_vecs,nb_vecs))))\n",
    "\n",
    "        #putting in thetas (doing it here is inefficient -- TODO change)\n",
    "        counter = 0\n",
    "        for i in range(nb_vecs-1):\n",
    "            for j in range(i+1):\n",
    "                L[i+1][j] *= tf.cos(thetas[counter])\n",
    "                L[i+1][j+1:] *= tf.sin(thetas[counter])\n",
    "                counter +=1\n",
    "        L = tf.convert_to_tensor(L, dtype=float)\n",
    "\n",
    "\n",
    "        eps = tf.random.normal([nb_vecs]) #generate random Gaussian noise\n",
    "        L_prime = norm_dist.cdf(tf.linalg.matvec(L,eps))     #generate vector distributed normally with cov LL^\\top then put through cdf to get uniform\n",
    "        lengths = tf.sqrt(chi2_dist.quantile(L_prime))      #push through chi inverse cdf to get lengths\n",
    "        ws = tf.matmul(tf.linalg.diag(lengths),basis)       #use to rescale basis vectors to get weight vectors\n",
    "        return ws"
   ]
  },
  {
   "cell_type": "code",
   "execution_count": 264,
   "metadata": {},
   "outputs": [],
   "source": [
    "initial_thetas = np.ones(  int( 0.5 * nb_vecs * (nb_vecs - 1))) * 0.5 * np.pi       #these initial thetas give identity covariance matrix\n",
    "get_weights = Model(initial_thetas)"
   ]
  },
  {
   "cell_type": "code",
   "execution_count": 265,
   "metadata": {},
   "outputs": [],
   "source": [
    "#Generate data and get groundtruth kernel\n",
    "\n",
    "xs = tf.random.normal(shape = (nb_datapoints,d))        #nb_datapoints random x vectors of dimensionaltiy d \n",
    "xs -= np.mean(xs)       #normalise (doesn't change kernel evaluations but makes converge better)\n",
    "xs *= sigma     #regularise\n",
    "K_groundtruth = generate_K(xs.numpy())"
   ]
  },
  {
   "cell_type": "code",
   "execution_count": 266,
   "metadata": {},
   "outputs": [],
   "source": [
    "def get_tf_copula_rffs(nb_features,xs, get_weights): \n",
    "    \"function to get random fourier features with coupling specified by get_weights copula\"\n",
    "    for feature in range(nb_features):\n",
    "        ws = get_weights(0)  #get the ws\n",
    "        rotation = tf.constant(ortho_group.rvs(d), dtype = float)      #get the rotation matrix to apply to all the data\n",
    "        holder = tf.matmul(ws,tf.matmul(rotation,tf.transpose(xs)))     #get projections w^Tx\n",
    "        cs_holder = tf.concat([tf.cos(holder),tf.sin(holder)],axis=0)\n",
    "        if feature == 0:\n",
    "            rfs = cs_holder\n",
    "        else:\n",
    "            rfs = tf.concat((tf.reshape(rfs, [feature,2*nb_vecs,len(xs)]),tf.reshape(cs_holder, [1,2*nb_vecs,len(xs)])),axis=0)\n",
    "    rfs = tf.transpose(tf.reshape(rfs, [nb_features*2*nb_vecs,len(xs)])) / np.sqrt(nb_features * nb_vecs)\n",
    "    return rfs\n",
    "\n",
    "def get_tf_copula_prfs(nb_features,xs, get_weights): \n",
    "    \"function to get positive random features with coupling specified by get_weights copula\"\n",
    "    for feature in range(nb_features):\n",
    "        ws = get_weights(0)  #get the ws\n",
    "        rotation = tf.constant(ortho_group.rvs(d), dtype = float)      #get the rotation matrix to apply to all the data\n",
    "        holder = tf.matmul(ws,tf.matmul(rotation,tf.transpose(xs)))        #get projections w^Tx\n",
    "        cs_holder = tf.exp(holder)\n",
    "        if feature == 0:\n",
    "            rfs = cs_holder\n",
    "        else:\n",
    "            rfs = tf.concat((tf.reshape(rfs, [feature,nb_vecs,len(xs)]),tf.reshape(cs_holder, [1,nb_vecs,len(xs)])),axis=0)\n",
    "    rfs = tf.transpose(tf.reshape(rfs, [nb_features*nb_vecs,len(xs)])) / np.sqrt(nb_features * nb_vecs)\n",
    "    rfs = tf.linalg.matmul(tf.linalg.diag(tf.exp(-tf.reduce_sum(xs**2,axis=1))), rfs)       #prfs need an extra normalisation factor\n",
    "    return rfs"
   ]
  },
  {
   "cell_type": "code",
   "execution_count": 267,
   "metadata": {},
   "outputs": [],
   "source": [
    "def get_loss(nb_features, xs, K_groundtruth, nb_trials, feature_type, get_weights):\n",
    "    \"Loss function, takes get_weights as input and returns relative Frob norm error between true and approximated Gram matrices\"\n",
    "    loss = 0\n",
    "    for _ in range(nb_trials):\n",
    "        if feature_type == 'rff':\n",
    "            rfs = get_tf_copula_rffs(nb_features, xs, get_weights)\n",
    "        elif feature_type == 'prf':\n",
    "            rfs = get_tf_copula_prfs(nb_features, xs, get_weights)\n",
    "        else:\n",
    "            raise Exception('Not a valid type of feature')\n",
    "        prediction = tf.matmul(rfs,tf.transpose(rfs))       #dot product the RFs to get kernel estimate\n",
    "        loss += tf.reduce_sum((tf.constant(K_groundtruth, dtype=float) - prediction)**2) / tf.reduce_sum((tf.constant(K_groundtruth, dtype=float) )**2)     #add relative Frob norm between true and approx kernel matrices to loss\n",
    "    return loss / nb_trials\n"
   ]
  },
  {
   "cell_type": "code",
   "execution_count": 268,
   "metadata": {},
   "outputs": [
    {
     "name": "stdout",
     "output_type": "stream",
     "text": [
      "epoch: 1\n"
     ]
    },
    {
     "name": "stdout",
     "output_type": "stream",
     "text": [
      "loss: 0.0010990282\n",
      "epoch: 2\n",
      "loss: 0.0016322632\n",
      "epoch: 3\n",
      "loss: 0.0008061904\n",
      "epoch: 4\n",
      "loss: 0.00061567203\n",
      "epoch: 5\n",
      "loss: 0.0006780032\n",
      "epoch: 6\n",
      "loss: 0.0005210888\n",
      "epoch: 7\n",
      "loss: 0.00045642443\n",
      "epoch: 8\n",
      "loss: 0.0007238395\n",
      "epoch: 9\n",
      "loss: 0.00036962694\n",
      "epoch: 10\n",
      "loss: 0.00052395865\n",
      "epoch: 11\n",
      "loss: 0.00043927252\n",
      "epoch: 12\n",
      "loss: 0.00046898783\n",
      "epoch: 13\n",
      "loss: 0.0009424964\n",
      "epoch: 14\n",
      "loss: 0.00057042675\n",
      "epoch: 15\n",
      "loss: 0.0005963895\n",
      "epoch: 16\n",
      "loss: 0.00035125745\n",
      "epoch: 17\n",
      "loss: 0.00058416487\n",
      "epoch: 18\n",
      "loss: 0.00027133583\n",
      "epoch: 19\n",
      "loss: 0.0004879742\n",
      "epoch: 20\n",
      "loss: 0.0006246453\n",
      "epoch: 21\n",
      "loss: 0.00068836735\n",
      "epoch: 22\n",
      "loss: 0.00029649405\n",
      "epoch: 23\n",
      "loss: 0.0005177209\n",
      "epoch: 24\n",
      "loss: 0.00038831457\n",
      "epoch: 25\n",
      "loss: 0.00031021974\n",
      "epoch: 26\n",
      "loss: 0.00034686993\n",
      "epoch: 27\n",
      "loss: 0.0006998285\n",
      "epoch: 28\n",
      "loss: 0.00036572656\n",
      "epoch: 29\n",
      "loss: 0.00032653517\n",
      "epoch: 30\n",
      "loss: 0.00055131735\n",
      "epoch: 31\n",
      "loss: 0.00028837041\n",
      "epoch: 32\n",
      "loss: 0.00041505578\n",
      "epoch: 33\n",
      "loss: 0.00034997743\n",
      "epoch: 34\n",
      "loss: 0.0003114811\n",
      "epoch: 35\n",
      "loss: 0.00039266227\n",
      "epoch: 36\n",
      "loss: 0.00040217218\n",
      "epoch: 37\n",
      "loss: 0.00034154765\n",
      "epoch: 38\n",
      "loss: 0.0006481156\n",
      "epoch: 39\n",
      "loss: 0.0007269723\n",
      "epoch: 40\n",
      "loss: 0.00039615322\n",
      "epoch: 41\n",
      "loss: 0.00037691783\n",
      "epoch: 42\n",
      "loss: 0.00022421952\n",
      "epoch: 43\n",
      "loss: 0.00043970477\n",
      "epoch: 44\n",
      "loss: 0.00027284486\n",
      "epoch: 45\n",
      "loss: 0.0003217566\n",
      "epoch: 46\n",
      "loss: 0.00034993523\n",
      "epoch: 47\n",
      "loss: 0.000693563\n",
      "epoch: 48\n",
      "loss: 0.00045842567\n",
      "epoch: 49\n",
      "loss: 0.00050287024\n",
      "epoch: 50\n",
      "loss: 0.00040489712\n",
      "epoch: 51\n",
      "loss: 0.000640855\n",
      "epoch: 52\n",
      "loss: 0.00061315816\n",
      "epoch: 53\n",
      "loss: 0.00077702175\n",
      "epoch: 54\n",
      "loss: 0.0003920609\n",
      "epoch: 55\n",
      "loss: 0.0006608711\n",
      "epoch: 56\n",
      "loss: 0.00051906775\n",
      "epoch: 57\n",
      "loss: 0.00040056213\n",
      "epoch: 58\n",
      "loss: 0.00040699742\n",
      "epoch: 59\n",
      "loss: 0.00056646444\n",
      "epoch: 60\n",
      "loss: 0.0004979613\n",
      "epoch: 61\n",
      "loss: 0.0005684045\n",
      "epoch: 62\n",
      "loss: 0.0004704533\n",
      "epoch: 63\n",
      "loss: 0.0005658488\n",
      "epoch: 64\n",
      "loss: 0.00050346385\n",
      "epoch: 65\n",
      "loss: 0.00044369441\n",
      "epoch: 66\n",
      "loss: 0.00037157713\n",
      "epoch: 67\n",
      "loss: 0.00054968876\n",
      "epoch: 68\n",
      "loss: 0.00046335923\n",
      "epoch: 69\n",
      "loss: 0.00047299088\n",
      "epoch: 70\n",
      "loss: 0.00035641558\n",
      "epoch: 71\n",
      "loss: 0.00040054816\n",
      "epoch: 72\n",
      "loss: 0.00046259887\n",
      "epoch: 73\n",
      "loss: 0.0004716745\n",
      "epoch: 74\n",
      "loss: 0.0004884541\n",
      "epoch: 75\n",
      "loss: 0.00037285083\n",
      "epoch: 76\n",
      "loss: 0.00031091497\n",
      "epoch: 77\n",
      "loss: 0.0005744207\n",
      "epoch: 78\n",
      "loss: 0.0004687176\n",
      "epoch: 79\n",
      "loss: 0.00030655783\n",
      "epoch: 80\n",
      "loss: 0.0003945239\n",
      "epoch: 81\n",
      "loss: 0.00042816336\n",
      "epoch: 82\n",
      "loss: 0.0008110328\n",
      "epoch: 83\n",
      "loss: 0.00046880468\n",
      "epoch: 84\n",
      "loss: 0.00036586553\n",
      "epoch: 85\n",
      "loss: 0.00040954296\n",
      "epoch: 86\n",
      "loss: 0.00043387542\n",
      "epoch: 87\n",
      "loss: 0.0007618928\n",
      "epoch: 88\n",
      "loss: 0.00044551643\n",
      "epoch: 89\n",
      "loss: 0.0004162271\n",
      "epoch: 90\n",
      "loss: 0.00047144588\n",
      "epoch: 91\n",
      "loss: 0.00034847035\n",
      "epoch: 92\n",
      "loss: 0.0006803484\n",
      "epoch: 93\n",
      "loss: 0.00028316778\n",
      "epoch: 94\n",
      "loss: 0.0005560857\n",
      "epoch: 95\n",
      "loss: 0.00034316682\n",
      "epoch: 96\n",
      "loss: 0.00055050495\n",
      "epoch: 97\n",
      "loss: 0.00052264344\n",
      "epoch: 98\n",
      "loss: 0.0003506085\n",
      "epoch: 99\n",
      "loss: 0.00041492647\n",
      "epoch: 100\n",
      "loss: 0.00075727445\n"
     ]
    }
   ],
   "source": [
    "#Train the QMC copula\n",
    "\n",
    "epochs = 100     #epochs to train for\n",
    "nb_trials = 100     #number of samples to get MC estimate whose gradient we take (N_s in technical note)\n",
    "nb_features = 1     #number of features (copies of W matrix) used in each kernel matrix\n",
    "\n",
    "initial_lr = 500\n",
    "lrs = np.exp(np.linspace(np.log(initial_lr),np.log(0.1),epochs))        #lr scheduler\n",
    "\n",
    "loss_log = []\n",
    "\n",
    "for epoch in range(epochs):\n",
    "    print('epoch: %s' % (epoch+1))\n",
    "    \n",
    "    with tf.GradientTape() as tape:\n",
    "        loss = get_loss(nb_features, xs, K_groundtruth, nb_trials, 'rff', get_weights)  #evaluate loss\n",
    "        loss_log.append(loss)\n",
    "    \n",
    "    print('loss: %s'%(loss.numpy()))\n",
    "\n",
    "    grad = tape.gradient(loss,get_weights.trainable_variables)      #compute gradient and backprop\n",
    "    optimiser = tf.keras.optimizers.SGD(learning_rate = lrs[epoch])\n",
    "    optimiser.apply_gradients(zip(grad,get_weights.trainable_variables))        #update thetas\n",
    "   \n"
   ]
  },
  {
   "cell_type": "code",
   "execution_count": 269,
   "metadata": {},
   "outputs": [
    {
     "data": {
      "text/plain": [
       "<matplotlib.colorbar.Colorbar at 0x7f0bd44370a0>"
      ]
     },
     "execution_count": 269,
     "metadata": {},
     "output_type": "execute_result"
    },
    {
     "data": {
      "image/png": "[encoded data removed]",
      "text/plain": [
       "<Figure size 640x480 with 2 Axes>"
      ]
     },
     "metadata": {},
     "output_type": "display_data"
    }
   ],
   "source": [
    "#To visualise what the covariance matrix looks like after training\n",
    "\n",
    "thetas= get_weights.trainable_variables[0].numpy()\n",
    "L = np.ndarray.tolist(np.tril(np.ones((nb_vecs,nb_vecs))))\n",
    "counter = 0\n",
    "for i in range(nb_vecs-1):\n",
    "    for j in range(i+1):\n",
    "        L[i+1][j] *= tf.cos(thetas[counter])\n",
    "        L[i+1][j+1:] *= tf.sin(thetas[counter])\n",
    "        counter +=1\n",
    "L = tf.convert_to_tensor(L, dtype=float).numpy()\n",
    "M = L @ L.T\n",
    "plt.imshow(M)\n",
    "plt.colorbar()"
   ]
  },
  {
   "cell_type": "code",
   "execution_count": 270,
   "metadata": {},
   "outputs": [
    {
     "data": {
      "text/plain": [
       "Text(0.5, 0, 'Epochs')"
      ]
     },
     "execution_count": 270,
     "metadata": {},
     "output_type": "execute_result"
    },
    {
     "data": {
      "image/png": "[encoded data removed]",
      "text/plain": [
       "<Figure size 640x480 with 1 Axes>"
      ]
     },
     "metadata": {},
     "output_type": "display_data"
    }
   ],
   "source": [
    "#Plot the training curve\n",
    "\n",
    "plt.plot(tf.convert_to_tensor(loss_log).numpy())\n",
    "plt.ylabel('Kernel estimator MSE')\n",
    "plt.xlabel('Epochs')\n"
   ]
  },
  {
   "cell_type": "code",
   "execution_count": 271,
   "metadata": {},
   "outputs": [],
   "source": [
    "#To evaluate approximation error with some particular theta\n",
    "\n",
    "if False:\n",
    "\n",
    "    thetas = thetas_save\n",
    "    #thetas = 0.5 * np.ones(28)\n",
    "\n",
    "    tests=100\n",
    "    log = []\n",
    "\n",
    "    for _ in tqdm(range(tests)):\n",
    "        get_weights = Model(thetas)\n",
    "        log.append(get_rff_loss(nb_features, xs, K_groundtruth, 10, get_weights))\n",
    "    \n",
    "    print(np.mean(log))\n",
    "    print(np.std(log)/np.sqrt(tests))\n"
   ]
  }
 ],
 "metadata": {
  "kernelspec": {
   "display_name": "Python 3.10.8 ('env1')",
   "language": "python",
   "name": "python3"
  },
  "language_info": {
   "codemirror_mode": {
    "name": "ipython",
    "version": 3
   },
   "file_extension": ".py",
   "mimetype": "text/x-python",
   "name": "python",
   "nbconvert_exporter": "python",
   "pygments_lexer": "ipython3",
   "version": "3.10.13"
  },
  "vscode": {
   "interpreter": {
    "hash": "6c3d621010972cfbd796373eb90e225d08b61afb98c052236727878caeec28ca"
   }
  }
 },
 "nbformat": 4,
 "nbformat_minor": 2
}
