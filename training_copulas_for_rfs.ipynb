{
 "cells": [
  {
   "cell_type": "markdown",
   "metadata": {},
   "source": [
    "Notebook to share w Stratis\n",
    "\n",
    "Possible things to discuss/change:\n",
    "- Resetting synthetic data\n",
    "- Optimisers/learning rate schedule\n",
    "- Tradeoff between number of MC samples to estimate gradient at each step and number of steps\n",
    "- Varying data parameters (e.g. \\sigma)"
   ]
  },
  {
   "cell_type": "code",
   "execution_count": 15,
   "metadata": {},
   "outputs": [],
   "source": [
    "import numpy as np\n",
    "from scipy.stats.distributions import chi2\n",
    "from tqdm import tqdm\n",
    "from scipy.stats import ortho_group\n",
    "import random\n",
    "import scipy\n",
    "import matplotlib.pyplot as plt\n",
    "import tensorflow as tf\n",
    "import tensorflow_probability as tfp"
   ]
  },
  {
   "cell_type": "code",
   "execution_count": 16,
   "metadata": {},
   "outputs": [],
   "source": [
    "def generate_K(x):\n",
    "    \"get kernel matrix from data\"\n",
    "    nb_datapoints = np.shape(x)[0]\n",
    "    K = np.zeros((nb_datapoints,nb_datapoints))\n",
    "    for i in range(nb_datapoints):\n",
    "        for j in range(nb_datapoints):\n",
    "            K[i,j] = np.exp( - sum((x[i] - x[j])**2) / 2)\n",
    "    return K"
   ]
  },
  {
   "cell_type": "code",
   "execution_count": 17,
   "metadata": {},
   "outputs": [],
   "source": [
    "d=4     #dimensionality of data\n",
    "nb_datapoints = 2       #number of synthetic datapoints to put in Gram matrix used for training\n",
    "sigma = 0.1     #lengthscale parameter of synthetic data"
   ]
  },
  {
   "cell_type": "code",
   "execution_count": 18,
   "metadata": {},
   "outputs": [],
   "source": [
    "tfd = tfp.distributions\n",
    "chi2_dist = tfd.Chi2(d)\n",
    "norm_dist = tfd.Normal(loc=0.,scale=1.)"
   ]
  },
  {
   "cell_type": "code",
   "execution_count": 19,
   "metadata": {},
   "outputs": [],
   "source": [
    "# choose the respective orientations of the weights vectors. Below gives you 2d vectors in +- all unit vector directions\n",
    "basis = np.eye(d)\n",
    "basis = tf.convert_to_tensor(np.vstack((basis,-basis)), dtype=float)\n",
    "\n",
    "nb_vecs = len(basis)"
   ]
  },
  {
   "cell_type": "code",
   "execution_count": 20,
   "metadata": {},
   "outputs": [],
   "source": [
    "class Model(tf.keras.Model):\n",
    "    \"generates and gives ws\"\n",
    "    def __init__(self, initial_thetas):\n",
    "        #length of initial thetas should be d(2d-1)\n",
    "\n",
    "        super(Model, self).__init__()\n",
    "        self.thetas =tf.Variable(np.pi * np.asarray(initial_thetas),dtype=float)\n",
    "\n",
    "    def call(self,input):  #currently has a dummy input\n",
    "        thetas = self.thetas\n",
    "        L = np.ndarray.tolist(np.tril(np.ones((nb_vecs,nb_vecs))))\n",
    "        counter = 0\n",
    "        for i in range(nb_vecs-1):\n",
    "            for j in range(i+1):\n",
    "                L[i+1][j] *= tf.cos(thetas[counter])\n",
    "                L[i+1][j+1:] *= tf.sin(thetas[counter])\n",
    "                counter +=1\n",
    "        L = tf.convert_to_tensor(L, dtype=float)        #!! Constructing L every time -- can this be done more efficiently?\n",
    "\n",
    "        eps = tf.random.normal([nb_vecs])\n",
    "        L_prime = norm_dist.cdf(tf.linalg.matvec(L,eps))\n",
    "        lengths = tf.sqrt(chi2_dist.quantile(L_prime))\n",
    "        ws = tf.matmul(tf.linalg.diag(lengths),basis)\n",
    "        return ws"
   ]
  },
  {
   "cell_type": "code",
   "execution_count": 21,
   "metadata": {},
   "outputs": [],
   "source": [
    "initial_thetas = np.ones(  int( 0.5 * nb_vecs * (nb_vecs - 1))) * 0.5       #initial parameters for covariance matrix (independent)\n",
    "get_weights = Model(initial_thetas)"
   ]
  },
  {
   "cell_type": "code",
   "execution_count": 22,
   "metadata": {},
   "outputs": [],
   "source": [
    "#Generate data and get groundtruth kernel\n",
    "\n",
    "xs = tf.random.normal(shape = (nb_datapoints,d))\n",
    "means = tf.reduce_mean(xs,axis=1)\n",
    "all_means = [means for _ in range(d)]\n",
    "xs = xs - tf.transpose(tf.stack(all_means))\n",
    "xs *= sigma\n",
    "K_groundtruth = generate_K(xs.numpy())"
   ]
  },
  {
   "cell_type": "code",
   "execution_count": 23,
   "metadata": {},
   "outputs": [],
   "source": [
    "def get_tf_copula_rffs(nb_features,xs, get_weights): \n",
    "    \"Construct random Fourier features using the weights\"\n",
    "    for feature in range(nb_features):\n",
    "        ws = get_weights(0)  #get the ws\n",
    "        rotation = tf.constant(ortho_group.rvs(d), dtype = float)      #get the rotation matrix to apply to all the data\n",
    "        holder = tf.matmul(ws,tf.matmul(rotation,tf.transpose(xs)))\n",
    "        cs_holder = tf.concat([tf.cos(holder),tf.sin(holder)],axis=0)\n",
    "        if feature == 0:\n",
    "            rfs = cs_holder\n",
    "        else:\n",
    "            rfs = tf.concat((tf.reshape(rfs, [feature,2*nb_vecs,len(xs)]),tf.reshape(cs_holder, [1,2*nb_vecs,len(xs)])),axis=0)\n",
    "    rfs = tf.transpose(tf.reshape(rfs, [nb_features*2*nb_vecs,len(xs)])) / np.sqrt(nb_features * nb_vecs)\n",
    "    return rfs\n",
    "\n",
    "def get_tf_copula_prfs(nb_features,xs, get_weights): \n",
    "    \"Construct positive random features = random Laplace features given the weights\"\n",
    "    for feature in range(nb_features):\n",
    "        ws = get_weights(0)  #get the ws\n",
    "        rotation = tf.constant(ortho_group.rvs(d), dtype = float)      #get the rotation matrix to apply to all the data\n",
    "        holder = tf.matmul(ws,tf.matmul(rotation,tf.transpose(xs)))\n",
    "        cs_holder = tf.exp(holder)\n",
    "        if feature == 0:\n",
    "            rfs = cs_holder\n",
    "        else:\n",
    "            rfs = tf.concat((tf.reshape(rfs, [feature,nb_vecs,len(xs)]),tf.reshape(cs_holder, [1,nb_vecs,len(xs)])),axis=0)\n",
    "    rfs = tf.transpose(tf.reshape(rfs, [nb_features*nb_vecs,len(xs)])) / np.sqrt(nb_features * nb_vecs)\n",
    "    rfs = tf.linalg.matmul(tf.linalg.diag(tf.exp(-tf.reduce_sum(xs**2,axis=1))), rfs)\n",
    "    return rfs"
   ]
  },
  {
   "cell_type": "code",
   "execution_count": 24,
   "metadata": {},
   "outputs": [],
   "source": [
    "def get_rff_loss(nb_features, xs, K_groundtruth, nb_trials, get_weights):\n",
    "    \"Compute average error on gram matrix approx using RFFs\"\n",
    "    loss = 0\n",
    "    for _ in range(nb_trials):\n",
    "        rfs = get_tf_copula_rffs(nb_features, xs, get_weights)\n",
    "        prediction = tf.matmul(rfs,tf.transpose(rfs))\n",
    "        loss += tf.reduce_sum((tf.constant(K_groundtruth, dtype=float) - prediction)**2) / tf.reduce_sum((tf.constant(K_groundtruth, dtype=float) )**2)\n",
    "    return loss / nb_trials\n",
    "\n",
    "def get_prf_loss(nb_features, xs, K_groundtruth, nb_trials, get_weights):\n",
    "    \"Compute average error on graph matrix approx using PRFs\"\n",
    "    loss = 0\n",
    "    for _ in range(nb_trials):\n",
    "        rfs = get_tf_copula_prfs(nb_features, xs, get_weights)\n",
    "        prediction = tf.matmul(rfs,tf.transpose(rfs))\n",
    "        loss += tf.reduce_sum((tf.constant(K_groundtruth, dtype=float) - prediction)**2) / tf.reduce_sum((tf.constant(K_groundtruth, dtype=float) )**2)\n",
    "    return loss / nb_trials\n"
   ]
  },
  {
   "cell_type": "code",
   "execution_count": 25,
   "metadata": {},
   "outputs": [
    {
     "name": "stdout",
     "output_type": "stream",
     "text": [
      "epoch: 1\n"
     ]
    },
    {
     "name": "stdout",
     "output_type": "stream",
     "text": [
      "loss: 0.0009403721\n",
      "epoch: 2\n",
      "loss: 0.0003611681\n",
      "epoch: 3\n",
      "loss: 0.00084380916\n",
      "epoch: 4\n",
      "loss: 0.000553823\n",
      "epoch: 5\n",
      "loss: 0.0012819117\n",
      "epoch: 6\n",
      "loss: 0.0011502112\n",
      "epoch: 7\n",
      "loss: 0.0013911953\n",
      "epoch: 8\n",
      "loss: 0.00096651795\n",
      "epoch: 9\n",
      "loss: 0.0015838309\n",
      "epoch: 10\n",
      "loss: 0.0016356215\n",
      "epoch: 11\n",
      "loss: 0.00092797296\n",
      "epoch: 12\n",
      "loss: 0.0010043991\n",
      "epoch: 13\n",
      "loss: 0.0007360101\n",
      "epoch: 14\n",
      "loss: 0.00072029675\n",
      "epoch: 15\n",
      "loss: 0.0010521616\n",
      "epoch: 16\n",
      "loss: 0.0012469933\n",
      "epoch: 17\n",
      "loss: 0.0010219805\n",
      "epoch: 18\n",
      "loss: 0.0009495167\n",
      "epoch: 19\n",
      "loss: 0.001585845\n",
      "epoch: 20\n",
      "loss: 0.001164869\n",
      "epoch: 21\n",
      "loss: 0.00087386154\n",
      "epoch: 22\n",
      "loss: 0.0019662417\n",
      "epoch: 23\n",
      "loss: 0.0009650923\n",
      "epoch: 24\n",
      "loss: 0.0004873408\n",
      "epoch: 25\n",
      "loss: 0.0007186037\n",
      "epoch: 26\n",
      "loss: 0.0010306138\n",
      "epoch: 27\n",
      "loss: 0.0009178488\n",
      "epoch: 28\n",
      "loss: 0.00068822474\n",
      "epoch: 29\n",
      "loss: 0.0015611904\n",
      "epoch: 30\n",
      "loss: 0.0009791595\n",
      "epoch: 31\n",
      "loss: 0.0006667074\n",
      "epoch: 32\n",
      "loss: 0.0007566743\n",
      "epoch: 33\n",
      "loss: 0.0010421794\n",
      "epoch: 34\n",
      "loss: 0.0009821089\n",
      "epoch: 35\n",
      "loss: 0.0007139702\n",
      "epoch: 36\n",
      "loss: 0.0013532215\n",
      "epoch: 37\n",
      "loss: 0.0010220711\n",
      "epoch: 38\n",
      "loss: 0.001083973\n",
      "epoch: 39\n",
      "loss: 0.0010791798\n",
      "epoch: 40\n",
      "loss: 0.0007559018\n",
      "epoch: 41\n",
      "loss: 0.0007452182\n",
      "epoch: 42\n",
      "loss: 0.0007610702\n",
      "epoch: 43\n",
      "loss: 0.000619635\n",
      "epoch: 44\n",
      "loss: 0.0013448043\n",
      "epoch: 45\n",
      "loss: 0.00079058076\n",
      "epoch: 46\n",
      "loss: 0.00094468525\n",
      "epoch: 47\n",
      "loss: 0.001220141\n",
      "epoch: 48\n",
      "loss: 0.0010784967\n",
      "epoch: 49\n",
      "loss: 0.0011827261\n",
      "epoch: 50\n",
      "loss: 0.0007158472\n",
      "epoch: 51\n",
      "loss: 0.0005061297\n",
      "epoch: 52\n",
      "loss: 0.0007120473\n",
      "epoch: 53\n",
      "loss: 0.00077791035\n",
      "epoch: 54\n",
      "loss: 0.001035563\n",
      "epoch: 55\n",
      "loss: 0.0009722383\n",
      "epoch: 56\n",
      "loss: 0.00079603924\n",
      "epoch: 57\n",
      "loss: 0.00084148766\n",
      "epoch: 58\n",
      "loss: 0.0010673837\n",
      "epoch: 59\n",
      "loss: 0.001227289\n",
      "epoch: 60\n",
      "loss: 0.0009865512\n",
      "epoch: 61\n",
      "loss: 0.0010475303\n",
      "epoch: 62\n",
      "loss: 0.0006616185\n",
      "epoch: 63\n",
      "loss: 0.00143683\n",
      "epoch: 64\n",
      "loss: 0.0016430852\n",
      "epoch: 65\n",
      "loss: 0.0012823137\n",
      "epoch: 66\n",
      "loss: 0.0009571481\n",
      "epoch: 67\n",
      "loss: 0.000933394\n",
      "epoch: 68\n",
      "loss: 0.0014498864\n",
      "epoch: 69\n",
      "loss: 0.00094919925\n",
      "epoch: 70\n",
      "loss: 0.00054658187\n",
      "epoch: 71\n",
      "loss: 0.0012049509\n",
      "epoch: 72\n",
      "loss: 0.0010168557\n",
      "epoch: 73\n",
      "loss: 0.0010277479\n",
      "epoch: 74\n",
      "loss: 0.0008849492\n",
      "epoch: 75\n",
      "loss: 0.0010350608\n",
      "epoch: 76\n",
      "loss: 0.00052042474\n",
      "epoch: 77\n",
      "loss: 0.0015480401\n",
      "epoch: 78\n",
      "loss: 0.0008725115\n",
      "epoch: 79\n",
      "loss: 0.0013974388\n",
      "epoch: 80\n",
      "loss: 0.0009798008\n",
      "epoch: 81\n",
      "loss: 0.0007141179\n",
      "epoch: 82\n",
      "loss: 0.0012859463\n",
      "epoch: 83\n",
      "loss: 0.0006652522\n",
      "epoch: 84\n",
      "loss: 0.0016826604\n",
      "epoch: 85\n",
      "loss: 0.0011551334\n",
      "epoch: 86\n",
      "loss: 0.0010510432\n",
      "epoch: 87\n",
      "loss: 0.0008657758\n",
      "epoch: 88\n",
      "loss: 0.0010626272\n",
      "epoch: 89\n",
      "loss: 0.0011922774\n",
      "epoch: 90\n",
      "loss: 0.00095127226\n",
      "epoch: 91\n",
      "loss: 0.0005369696\n",
      "epoch: 92\n",
      "loss: 0.000980509\n",
      "epoch: 93\n",
      "loss: 0.0010387559\n",
      "epoch: 94\n",
      "loss: 0.0008397682\n",
      "epoch: 95\n",
      "loss: 0.00058980694\n",
      "epoch: 96\n",
      "loss: 0.0012522952\n",
      "epoch: 97\n",
      "loss: 0.0006323564\n",
      "epoch: 98\n",
      "loss: 0.0012728707\n",
      "epoch: 99\n",
      "loss: 0.00224915\n",
      "epoch: 100\n",
      "loss: 0.0011056424\n"
     ]
    }
   ],
   "source": [
    "epochs = 100        #number of epochs to optimise for\n",
    "grad_log = []\n",
    "nb_trials = 100     #number of MC samples to compute loss\n",
    "nb_features = 1     #length of PRFs/RFFs (1 is fine)\n",
    "\n",
    "initial_lr = 20000\n",
    "lrs = np.exp(np.linspace(np.log(initial_lr),np.log(10),epochs))\n",
    "\n",
    "loss_log = []\n",
    "\n",
    "for epoch in range(epochs):\n",
    "    print('epoch: %s' % (epoch+1))\n",
    "    \n",
    "    with tf.GradientTape() as tape:\n",
    "        #loss = get_rff_loss(nb_features, xs, K_groundtruth, nb_trials, get_weights)        #If training RFFs\n",
    "        loss = get_prf_loss(nb_features, xs, K_groundtruth, nb_trials, get_weights)         #If training PRFs\n",
    "        loss_log.append(loss)\n",
    "    \n",
    "    print('loss: %s'%(loss.numpy()))\n",
    "\n",
    "    grad = tape.gradient(loss,get_weights.trainable_variables)\n",
    "    #optimiser = tf.keras.optimizers.SGD(learning_rate = lrs[epoch])\n",
    "    optimiser = tf.keras.optimizers.Adam(learning_rate = lrs[epoch])\n",
    "    optimiser.apply_gradients(zip(grad,get_weights.trainable_variables))\n",
    "   \n"
   ]
  },
  {
   "cell_type": "code",
   "execution_count": 30,
   "metadata": {},
   "outputs": [
    {
     "data": {
      "text/plain": [
       "Text(0.5, 1.0, 'RLF learned covariance matrix')"
      ]
     },
     "execution_count": 30,
     "metadata": {},
     "output_type": "execute_result"
    },
    {
     "data": {
      "image/png": "[encoded data removed]",
      "text/plain": [
       "<Figure size 640x480 with 2 Axes>"
      ]
     },
     "metadata": {},
     "output_type": "display_data"
    }
   ],
   "source": [
    "#Retrieve learned weights and plot covariance matrix\n",
    "\n",
    "thetas= get_weights.trainable_variables[0].numpy()\n",
    "#thetas = np.pi / 2 * np.ones((15))\n",
    "\n",
    "L = np.ndarray.tolist(np.tril(np.ones((nb_vecs,nb_vecs))))\n",
    "counter = 0\n",
    "for i in range(nb_vecs-1):\n",
    "    for j in range(i+1):\n",
    "        L[i+1][j] *= tf.cos(thetas[counter])\n",
    "        L[i+1][j+1:] *= tf.sin(thetas[counter])\n",
    "        counter +=1\n",
    "L = tf.convert_to_tensor(L, dtype=float).numpy()\n",
    "M = L @ L.T\n",
    "plt.imshow(M, cmap = 'Greys',vmin=-1, vmax=1)\n",
    "plt.colorbar()\n",
    "plt.title(r'RLF learned covariance matrix')\n",
    "#plt.savefig('RLF_learned_cov_plot.pdf')\n"
   ]
  },
  {
   "cell_type": "code",
   "execution_count": 29,
   "metadata": {},
   "outputs": [
    {
     "data": {
      "text/plain": [
       "Text(0.5, 0, 'Epochs')"
      ]
     },
     "execution_count": 29,
     "metadata": {},
     "output_type": "execute_result"
    },
    {
     "data": {
      "image/png": "[encoded data removed]",
      "text/plain": [
       "<Figure size 640x480 with 1 Axes>"
      ]
     },
     "metadata": {},
     "output_type": "display_data"
    }
   ],
   "source": [
    "#Plot training curve\n",
    "plt.plot(tf.convert_to_tensor(loss_log).numpy())\n",
    "plt.ylabel('Kernel estimator MSE')\n",
    "plt.xlabel('Epochs')\n"
   ]
  }
 ],
 "metadata": {
  "kernelspec": {
   "display_name": "Python 3.10.8 ('env1')",
   "language": "python",
   "name": "python3"
  },
  "language_info": {
   "codemirror_mode": {
    "name": "ipython",
    "version": 3
   },
   "file_extension": ".py",
   "mimetype": "text/x-python",
   "name": "python",
   "nbconvert_exporter": "python",
   "pygments_lexer": "ipython3",
   "version": "3.10.13"
  },
  "vscode": {
   "interpreter": {
    "hash": "6c3d621010972cfbd796373eb90e225d08b61afb98c052236727878caeec28ca"
   }
  }
 },
 "nbformat": 4,
 "nbformat_minor": 2
}
